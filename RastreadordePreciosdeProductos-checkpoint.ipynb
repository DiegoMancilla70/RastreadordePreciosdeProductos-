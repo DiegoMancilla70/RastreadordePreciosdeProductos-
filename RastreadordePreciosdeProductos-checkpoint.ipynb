{
 "cells": [
  {
   "cell_type": "markdown",
   "id": "101c630c",
   "metadata": {},
   "source": [
    "## Rastreador de Precios de Productos en Línea con Análisis de Datos"
   ]
  },
  {
   "cell_type": "markdown",
   "id": "83a97e13",
   "metadata": {},
   "source": [
    "* Paso 1:  Importar Bibliotecas\n",
    "* Paso 2: Conectar al Sitio Web y Obtener Datos\n",
    "* Paso 3: Limpieza de Datos\n",
    "* Paso 4: Crear un Timestamp\n",
    "* Paso 5: Almacenar Datos en un Archivo CSV\n",
    "* Paso 6: Automatización\n",
    "* Paso 7: Envío de Correo Electrónico (Opcional)"
   ]
  },
  {
   "cell_type": "code",
   "execution_count": 4,
   "id": "768ff6a9",
   "metadata": {},
   "outputs": [],
   "source": [
    "# importar librerias\n",
    "\n",
    "from bs4 import BeautifulSoup\n",
    "import requests\n",
    "import time\n",
    "import datetime\n",
    "\n",
    "import smtplib"
   ]
  },
  {
   "cell_type": "code",
   "execution_count": 32,
   "id": "f3948712",
   "metadata": {},
   "outputs": [
    {
     "name": "stdout",
     "output_type": "stream",
     "text": [
      "\n",
      "                   Save The Chubby Unicorn Novelty Graphic Sarcastic Funny T Shirt\n",
      "                  \n",
      "\n",
      "                    $19.99\n",
      "                   \n"
     ]
    }
   ],
   "source": [
    "# Conectar con el sitio web y extraer datos\n",
    "\n",
    "URL = 'https://www.amazon.com/dp/B06Y1DBHP3/ref=sspa_dk_detail_2?psc=1&pd_rd_i=B06Y1DBHP3&pd_rd_w=icLIY&content-id=amzn1.sym.eb7c1ac5-7c51-4df5-ba34-ca810f1f119a&pf_rd_p=eb7c1ac5-7c51-4df5-ba34-ca810f1f119a&pf_rd_r=FXRTD6QTKGD9BG89657K&pd_rd_wg=ChfkI&pd_rd_r=7691e8b6-1b69-4a2b-a80b-0f9eba187978&s=apparel&sp_csd=d2lkZ2V0TmFtZT1zcF9kZXRhaWw'\n",
    "\n",
    "headers = {\"User-Agent\": \"Mozilla/5.0 (Windows NT 10.0; Win64; x64) AppleWebKit/537.36 (KHTML, like Gecko) Chrome/78.0.3904.108 Safari/537.36\", \"Accept-Encoding\":\"gzip, deflate\", \"Accept\":\"text/html,application/xhtml+xml,application/xml;q=0.9,*/*;q=0.8\", \"DNT\":\"1\",\"Connection\":\"close\", \"Upgrade-Insecure-Requests\":\"1\"}\n",
    "\n",
    "page = requests.get(URL, headers=headers)\n",
    "\n",
    "soup1 = BeautifulSoup(page.content, \"html.parser\")\n",
    "\n",
    "soup2 = BeautifulSoup(soup1.prettify(), \"html.parser\")\n",
    "\n",
    "title = soup2.find(id='productTitle').get_text()\n",
    "\n",
    "price = soup2.find(class_='a-offscreen').get_text()\n",
    "\n",
    "print(title)\n",
    "print(price)"
   ]
  },
  {
   "cell_type": "code",
   "execution_count": 33,
   "id": "5eb67d8a",
   "metadata": {},
   "outputs": [
    {
     "name": "stdout",
     "output_type": "stream",
     "text": [
      "Save The Chubby Unicorn Novelty Graphic Sarcastic Funny T Shirt\n",
      "19.99\n"
     ]
    }
   ],
   "source": [
    "# Limpiar un poco los datos\n",
    "\n",
    "price = price.strip()[1:]\n",
    "title = title.strip()\n",
    "\n",
    "print(title)\n",
    "print(price)"
   ]
  },
  {
   "cell_type": "code",
   "execution_count": 34,
   "id": "0162487e",
   "metadata": {},
   "outputs": [
    {
     "name": "stdout",
     "output_type": "stream",
     "text": [
      "2023-10-24\n"
     ]
    }
   ],
   "source": [
    "# Cerar un Timestamp para rastrear cuando se recogieron los datos\n",
    "\n",
    "import datetime\n",
    "\n",
    "today = datetime.date.today()\n",
    "\n",
    "print(today)\n"
   ]
  },
  {
   "cell_type": "code",
   "execution_count": 38,
   "id": "620312af",
   "metadata": {},
   "outputs": [],
   "source": [
    "# Crear un CSV y escribir cabeceras y datos en el archivo\n",
    "\n",
    "import csv \n",
    "\n",
    "header = ['Titulo', 'Precio', 'Fecha']\n",
    "data = [title, price, today]\n",
    "\n",
    "\n",
    "with open('AmazonWebScraperData.csv', 'w', newline='', encoding='UTF8') as f:\n",
    "    writer = csv.writer(f)\n",
    "    writer.writerow(header)\n",
    "    writer.writerow(data)"
   ]
  },
  {
   "cell_type": "code",
   "execution_count": 41,
   "id": "4303abaa",
   "metadata": {},
   "outputs": [
    {
     "name": "stdout",
     "output_type": "stream",
     "text": [
      "                                              Titulo  Precio       Fecha\n",
      "0  Save The Chubby Unicorn Novelty Graphic Sarcas...   19.99  2023-10-24\n",
      "1  Save The Chubby Unicorn Novelty Graphic Sarcas...   19.99  2023-10-24\n"
     ]
    }
   ],
   "source": [
    "import pandas as pd\n",
    "\n",
    "df = pd.read_csv(r'C:\\Users\\hp\\AmazonWebScraperData.csv')\n",
    "\n",
    "print(df)"
   ]
  },
  {
   "cell_type": "code",
   "execution_count": 40,
   "id": "93bf52d6",
   "metadata": {},
   "outputs": [],
   "source": [
    "# añadir datos al csv\n",
    "\n",
    "with open('AmazonWebScraperData.csv', 'a+', newline='', encoding='UTF8') as f:\n",
    "    writer = csv.writer(f)\n",
    "    writer.writerow(data)"
   ]
  },
  {
   "cell_type": "code",
   "execution_count": 43,
   "id": "a6c56d76",
   "metadata": {},
   "outputs": [],
   "source": [
    "#Combinar todo el código anterior en una sola función\n",
    "\n",
    "def check_price():\n",
    "    URL = 'https://www.amazon.com/dp/B06Y1DBHP3/ref=sspa_dk_detail_2?psc=1&pd_rd_i=B06Y1DBHP3&pd_rd_w=icLIY&content-id=amzn1.sym.eb7c1ac5-7c51-4df5-ba34-ca810f1f119a&pf_rd_p=eb7c1ac5-7c51-4df5-ba34-ca810f1f119a&pf_rd_r=FXRTD6QTKGD9BG89657K&pd_rd_wg=ChfkI&pd_rd_r=7691e8b6-1b69-4a2b-a80b-0f9eba187978&s=apparel&sp_csd=d2lkZ2V0TmFtZT1zcF9kZXRhaWw'\n",
    "\n",
    "    headers = {\"User-Agent\": \"Mozilla/5.0 (Windows NT 10.0; Win64; x64) AppleWebKit/537.36 (KHTML, like Gecko) Chrome/78.0.3904.108 Safari/537.36\", \"Accept-Encoding\":\"gzip, deflate\", \"Accept\":\"text/html,application/xhtml+xml,application/xml;q=0.9,*/*;q=0.8\", \"DNT\":\"1\",\"Connection\":\"close\", \"Upgrade-Insecure-Requests\":\"1\"}\n",
    "\n",
    "    page = requests.get(URL, headers=headers)\n",
    "    \n",
    "    soup1 = BeautifulSoup(page.content, \"html.parser\")\n",
    "\n",
    "    soup2 = BeautifulSoup(soup1.prettify(), \"html.parser\")\n",
    "\n",
    "    title = soup2.find(id='productTitle').get_text()\n",
    "\n",
    "    price = soup2.find(class_='a-offscreen').get_text()\n",
    "    \n",
    "    price = price.strip()[1:]\n",
    "    title = title.strip()\n",
    "    \n",
    "    import datetime\n",
    "\n",
    "    today = datetime.date.today()\n",
    "    \n",
    "    import csv \n",
    "\n",
    "    header = ['Titulo', 'Precio', 'Fecha']\n",
    "    data = [title, price, today]\n",
    "    \n",
    "    with open('AmazonWebScraperData.csv', 'a+', newline='', encoding='UTF8') as f:\n",
    "        writer = csv.writer(f)\n",
    "        writer.writerow(data)\n",
    "\n",
    "    if float(price) < 14:\n",
    "        send_mail()\n"
   ]
  },
  {
   "cell_type": "code",
   "execution_count": null,
   "id": "0e329540",
   "metadata": {},
   "outputs": [],
   "source": [
    "# Ejecuta check_price después de un tiempo determinado e introduce los datos en mi CSV\n",
    "\n",
    "while(True):\n",
    "    check_price()\n",
    "    time.sleep(77700)"
   ]
  },
  {
   "cell_type": "code",
   "execution_count": null,
   "id": "c7567e62",
   "metadata": {},
   "outputs": [],
   "source": [
    "import pandas as pd\n",
    "\n",
    "df = pd.read_csv(r'C:\\Users\\hp\\AmazonWebScraperData.csv')\n",
    "\n",
    "print(df)"
   ]
  },
  {
   "cell_type": "code",
   "execution_count": null,
   "id": "ec657827",
   "metadata": {},
   "outputs": [],
   "source": [
    "# enviarte un email cuando un precio cae por debajo de un cierto nivel se puede con este script\n",
    "\n",
    "def send_mail():\n",
    "    server = smtplib.SMTP_SSL('smtp.gmail.com',465)\n",
    "    server.ehlo()\n",
    "    #server.starttls()\n",
    "    server.ehlo()\n",
    "    server.login('diegomancilla070@gmail.com','xxxxxxxxxxxxxx')\n",
    "    \n",
    "    subject = \"¡La camiseta que quieres está por debajo de $15! ¡Ahora es tu oportunidad de comprar!\"\n",
    "    body = \"Diego, este es el momento que hemos estado esperando.Es momento de comprar la camiseta de tus sueños. Link here: https://www.amazon.com/dp/B06Y1DBHP3/ref=sspa_dk_detail_2?psc=1&pd_rd_i=B06Y1DBHP3&pd_rd_w=icLIY&content-id=amzn1.sym.eb7c1ac5-7c51-4df5-ba34-ca810f1f119a&pf_rd_p=eb7c1ac5-7c51-4df5-ba34-ca810f1f119a&pf_rd_r=FXRTD6QTKGD9BG89657K&pd_rd_wg=ChfkI&pd_rd_r=7691e8b6-1b69-4a2b-a80b-0f9eba187978&s=apparel&sp_csd=d2lkZ2V0TmFtZT1zcF9kZXRhaWw\"\n",
    "   \n",
    "    msg = f\"Subject: {subject}\\n\\n{body}\"\n",
    "    \n",
    "    server.sendmail(\n",
    "        'diegomancilla070@gmail.com',\n",
    "        msg\n",
    "     \n",
    "    )"
   ]
  }
 ],
 "metadata": {
  "kernelspec": {
   "display_name": "Python 3 (ipykernel)",
   "language": "python",
   "name": "python3"
  },
  "language_info": {
   "codemirror_mode": {
    "name": "ipython",
    "version": 3
   },
   "file_extension": ".py",
   "mimetype": "text/x-python",
   "name": "python",
   "nbconvert_exporter": "python",
   "pygments_lexer": "ipython3",
   "version": "3.11.5"
  }
 },
 "nbformat": 4,
 "nbformat_minor": 5
}
